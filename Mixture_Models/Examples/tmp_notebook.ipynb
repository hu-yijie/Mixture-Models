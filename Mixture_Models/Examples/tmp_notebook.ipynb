{
 "cells": [
  {
   "cell_type": "code",
   "execution_count": 6,
   "id": "509aad98",
   "metadata": {},
   "outputs": [],
   "source": [
    "from Mixture_Models import *"
   ]
  },
  {
   "cell_type": "markdown",
   "id": "1985e650",
   "metadata": {},
   "source": [
    "#### Simulating some data"
   ]
  },
  {
   "cell_type": "code",
   "execution_count": 7,
   "id": "02d386ec",
   "metadata": {},
   "outputs": [],
   "source": [
    "#data = make_pinwheel(radial_std=0.3, tangential_std=0.05, num_classes=3,num_per_class=100, rate=0.4,rs=npr.RandomState(0))\n",
    "load_data = load_csvdataset(\"Khan_train\")\n",
    "data = load_data[0]\n",
    "ground_truth = load_data[3]\n"
   ]
  },
  {
   "cell_type": "markdown",
   "id": "6360d0e3",
   "metadata": {},
   "source": [
    "#### Initializing the model"
   ]
  },
  {
   "cell_type": "code",
   "execution_count": 8,
   "id": "a6309d89",
   "metadata": {},
   "outputs": [],
   "source": [
    "test_GMM = GMM(data)"
   ]
  },
  {
   "cell_type": "markdown",
   "id": "ed59fa58",
   "metadata": {},
   "source": [
    "#### Initializing the input parameters"
   ]
  },
  {
   "cell_type": "code",
   "execution_count": 9,
   "id": "27526c87",
   "metadata": {},
   "outputs": [
    {
     "name": "stdout",
     "output_type": "stream",
     "text": [
      "{'log proportions': array([ 0.66579325,  0.35763949, -0.77270015]), 'means': array([[-1.55796371e-01, -1.23793101e+00, -1.35696034e-03, ...,\n",
      "        -1.88622005e-01,  2.20457638e-02, -1.13153288e+00],\n",
      "       [-8.94123694e-01, -2.01967210e+00,  3.37678006e-01, ...,\n",
      "        -1.14804583e+00, -1.08909591e+00, -1.38331356e+00],\n",
      "       [ 6.26782537e-01, -1.19743427e+00, -4.17015409e-01, ...,\n",
      "        -8.21279408e-01, -7.40838082e-01, -8.66473364e-01]]), 'sqrt_covs': array([[[1., 0., 0., ..., 0., 0., 0.],\n",
      "        [0., 1., 0., ..., 0., 0., 0.],\n",
      "        [0., 0., 1., ..., 0., 0., 0.],\n",
      "        ...,\n",
      "        [0., 0., 0., ..., 1., 0., 0.],\n",
      "        [0., 0., 0., ..., 0., 1., 0.],\n",
      "        [0., 0., 0., ..., 0., 0., 1.]],\n",
      "\n",
      "       [[1., 0., 0., ..., 0., 0., 0.],\n",
      "        [0., 1., 0., ..., 0., 0., 0.],\n",
      "        [0., 0., 1., ..., 0., 0., 0.],\n",
      "        ...,\n",
      "        [0., 0., 0., ..., 1., 0., 0.],\n",
      "        [0., 0., 0., ..., 0., 1., 0.],\n",
      "        [0., 0., 0., ..., 0., 0., 1.]],\n",
      "\n",
      "       [[1., 0., 0., ..., 0., 0., 0.],\n",
      "        [0., 1., 0., ..., 0., 0., 0.],\n",
      "        [0., 0., 1., ..., 0., 0., 0.],\n",
      "        ...,\n",
      "        [0., 0., 0., ..., 1., 0., 0.],\n",
      "        [0., 0., 0., ..., 0., 1., 0.],\n",
      "        [0., 0., 0., ..., 0., 0., 1.]]])}\n"
     ]
    }
   ],
   "source": [
    "npr.seed(10)\n",
    "init_params = test_GMM.init_params(num_components=3,scale=0.5,use_kmeans=True)\n",
    "print(init_params)"
   ]
  },
  {
   "cell_type": "code",
   "execution_count": null,
   "id": "cf426fdb",
   "metadata": {},
   "outputs": [],
   "source": []
  },
  {
   "cell_type": "code",
   "execution_count": 21,
   "id": "84d088a8",
   "metadata": {},
   "outputs": [
    {
     "name": "stdout",
     "output_type": "stream",
     "text": [
      "1.0\n"
     ]
    },
    {
     "ename": "FloatingPointError",
     "evalue": "overflow encountered in det",
     "output_type": "error",
     "traceback": [
      "\u001b[1;31m---------------------------------------------------------------------------\u001b[0m",
      "\u001b[1;31mFloatingPointError\u001b[0m                        Traceback (most recent call last)",
      "\u001b[1;32m~\\AppData\\Local\\Temp\\ipykernel_9788\\1400836562.py\u001b[0m in \u001b[0;36m<module>\u001b[1;34m\u001b[0m\n\u001b[0;32m      3\u001b[0m     \u001b[0mprint\u001b[0m\u001b[1;33m(\u001b[0m\u001b[0mnp\u001b[0m\u001b[1;33m.\u001b[0m\u001b[0mlinalg\u001b[0m\u001b[1;33m.\u001b[0m\u001b[0mdet\u001b[0m\u001b[1;33m(\u001b[0m\u001b[0mcov_sqrt\u001b[0m\u001b[1;33m.\u001b[0m\u001b[0mT\u001b[0m \u001b[1;33m@\u001b[0m \u001b[0mcov_sqrt\u001b[0m\u001b[1;33m)\u001b[0m\u001b[1;33m)\u001b[0m\u001b[1;33m\u001b[0m\u001b[1;33m\u001b[0m\u001b[0m\n\u001b[0;32m      4\u001b[0m     \u001b[1;31m#cluster_lls.append(cov_sqrt)\u001b[0m\u001b[1;33m\u001b[0m\u001b[1;33m\u001b[0m\u001b[1;33m\u001b[0m\u001b[0m\n\u001b[1;32m----> 5\u001b[1;33m     \u001b[0mcluster_lls\u001b[0m\u001b[1;33m.\u001b[0m\u001b[0mappend\u001b[0m\u001b[1;33m(\u001b[0m\u001b[0mlog_proportion\u001b[0m \u001b[1;33m+\u001b[0m \u001b[0mtest_GMM\u001b[0m\u001b[1;33m.\u001b[0m\u001b[0mmvn_logpdf\u001b[0m\u001b[1;33m(\u001b[0m\u001b[0mdata\u001b[0m\u001b[1;33m,\u001b[0m \u001b[0mmean\u001b[0m\u001b[1;33m,\u001b[0m \u001b[0mcov_sqrt\u001b[0m\u001b[1;33m)\u001b[0m\u001b[1;33m)\u001b[0m\u001b[1;33m\u001b[0m\u001b[1;33m\u001b[0m\u001b[0m\n\u001b[0m\u001b[0;32m      6\u001b[0m \u001b[1;31m#labels = np.argmax(np.array(cluster_lls).T, axis=1)\u001b[0m\u001b[1;33m\u001b[0m\u001b[1;33m\u001b[0m\u001b[1;33m\u001b[0m\u001b[0m\n",
      "\u001b[1;32md:\\Yi Jie record\\NUSMComp\\CP5105\\gitmm\\Mixture-Models\\Mixture_Models\\mixture_models.py\u001b[0m in \u001b[0;36mmvn_logpdf\u001b[1;34m(self, X, mu, cov_sqrt)\u001b[0m\n\u001b[0;32m     86\u001b[0m         \"\"\"\n\u001b[0;32m     87\u001b[0m         return -0.5 * np.log(\n\u001b[1;32m---> 88\u001b[1;33m             \u001b[0mnp\u001b[0m\u001b[1;33m.\u001b[0m\u001b[0mlinalg\u001b[0m\u001b[1;33m.\u001b[0m\u001b[0mdet\u001b[0m\u001b[1;33m(\u001b[0m\u001b[1;36m2\u001b[0m \u001b[1;33m*\u001b[0m \u001b[0mnp\u001b[0m\u001b[1;33m.\u001b[0m\u001b[0mpi\u001b[0m \u001b[1;33m*\u001b[0m \u001b[0mcov_sqrt\u001b[0m\u001b[1;33m.\u001b[0m\u001b[0mT\u001b[0m \u001b[1;33m@\u001b[0m \u001b[0mcov_sqrt\u001b[0m\u001b[1;33m)\u001b[0m\u001b[1;33m\u001b[0m\u001b[1;33m\u001b[0m\u001b[0m\n\u001b[0m\u001b[0;32m     89\u001b[0m         ) - 0.5 * np.sum(((X - mu) @ np.linalg.inv(cov_sqrt)) ** 2, axis=1)\n\u001b[0;32m     90\u001b[0m \u001b[1;33m\u001b[0m\u001b[0m\n",
      "\u001b[1;32mc:\\Users\\Admin\\AppData\\Local\\Programs\\Python\\Python37\\lib\\site-packages\\autograd\\tracer.py\u001b[0m in \u001b[0;36mf_wrapped\u001b[1;34m(*args, **kwargs)\u001b[0m\n\u001b[0;32m     46\u001b[0m             \u001b[1;32mreturn\u001b[0m \u001b[0mnew_box\u001b[0m\u001b[1;33m(\u001b[0m\u001b[0mans\u001b[0m\u001b[1;33m,\u001b[0m \u001b[0mtrace\u001b[0m\u001b[1;33m,\u001b[0m \u001b[0mnode\u001b[0m\u001b[1;33m)\u001b[0m\u001b[1;33m\u001b[0m\u001b[1;33m\u001b[0m\u001b[0m\n\u001b[0;32m     47\u001b[0m         \u001b[1;32melse\u001b[0m\u001b[1;33m:\u001b[0m\u001b[1;33m\u001b[0m\u001b[1;33m\u001b[0m\u001b[0m\n\u001b[1;32m---> 48\u001b[1;33m             \u001b[1;32mreturn\u001b[0m \u001b[0mf_raw\u001b[0m\u001b[1;33m(\u001b[0m\u001b[1;33m*\u001b[0m\u001b[0margs\u001b[0m\u001b[1;33m,\u001b[0m \u001b[1;33m**\u001b[0m\u001b[0mkwargs\u001b[0m\u001b[1;33m)\u001b[0m\u001b[1;33m\u001b[0m\u001b[1;33m\u001b[0m\u001b[0m\n\u001b[0m\u001b[0;32m     49\u001b[0m     \u001b[0mf_wrapped\u001b[0m\u001b[1;33m.\u001b[0m\u001b[0mfun\u001b[0m \u001b[1;33m=\u001b[0m \u001b[0mf_raw\u001b[0m\u001b[1;33m\u001b[0m\u001b[1;33m\u001b[0m\u001b[0m\n\u001b[0;32m     50\u001b[0m     \u001b[0mf_wrapped\u001b[0m\u001b[1;33m.\u001b[0m\u001b[0m_is_autograd_primitive\u001b[0m \u001b[1;33m=\u001b[0m \u001b[1;32mTrue\u001b[0m\u001b[1;33m\u001b[0m\u001b[1;33m\u001b[0m\u001b[0m\n",
      "\u001b[1;32m<__array_function__ internals>\u001b[0m in \u001b[0;36mdet\u001b[1;34m(*args, **kwargs)\u001b[0m\n",
      "\u001b[1;32mc:\\Users\\Admin\\AppData\\Local\\Programs\\Python\\Python37\\lib\\site-packages\\numpy\\linalg\\linalg.py\u001b[0m in \u001b[0;36mdet\u001b[1;34m(a)\u001b[0m\n\u001b[0;32m   2156\u001b[0m     \u001b[0mt\u001b[0m\u001b[1;33m,\u001b[0m \u001b[0mresult_t\u001b[0m \u001b[1;33m=\u001b[0m \u001b[0m_commonType\u001b[0m\u001b[1;33m(\u001b[0m\u001b[0ma\u001b[0m\u001b[1;33m)\u001b[0m\u001b[1;33m\u001b[0m\u001b[1;33m\u001b[0m\u001b[0m\n\u001b[0;32m   2157\u001b[0m     \u001b[0msignature\u001b[0m \u001b[1;33m=\u001b[0m \u001b[1;34m'D->D'\u001b[0m \u001b[1;32mif\u001b[0m \u001b[0misComplexType\u001b[0m\u001b[1;33m(\u001b[0m\u001b[0mt\u001b[0m\u001b[1;33m)\u001b[0m \u001b[1;32melse\u001b[0m \u001b[1;34m'd->d'\u001b[0m\u001b[1;33m\u001b[0m\u001b[1;33m\u001b[0m\u001b[0m\n\u001b[1;32m-> 2158\u001b[1;33m     \u001b[0mr\u001b[0m \u001b[1;33m=\u001b[0m \u001b[0m_umath_linalg\u001b[0m\u001b[1;33m.\u001b[0m\u001b[0mdet\u001b[0m\u001b[1;33m(\u001b[0m\u001b[0ma\u001b[0m\u001b[1;33m,\u001b[0m \u001b[0msignature\u001b[0m\u001b[1;33m=\u001b[0m\u001b[0msignature\u001b[0m\u001b[1;33m)\u001b[0m\u001b[1;33m\u001b[0m\u001b[1;33m\u001b[0m\u001b[0m\n\u001b[0m\u001b[0;32m   2159\u001b[0m     \u001b[0mr\u001b[0m \u001b[1;33m=\u001b[0m \u001b[0mr\u001b[0m\u001b[1;33m.\u001b[0m\u001b[0mastype\u001b[0m\u001b[1;33m(\u001b[0m\u001b[0mresult_t\u001b[0m\u001b[1;33m,\u001b[0m \u001b[0mcopy\u001b[0m\u001b[1;33m=\u001b[0m\u001b[1;32mFalse\u001b[0m\u001b[1;33m)\u001b[0m\u001b[1;33m\u001b[0m\u001b[1;33m\u001b[0m\u001b[0m\n\u001b[0;32m   2160\u001b[0m     \u001b[1;32mreturn\u001b[0m \u001b[0mr\u001b[0m\u001b[1;33m\u001b[0m\u001b[1;33m\u001b[0m\u001b[0m\n",
      "\u001b[1;31mFloatingPointError\u001b[0m: overflow encountered in det"
     ]
    }
   ],
   "source": [
    "'''\n",
    "cluster_lls = []\n",
    "for log_proportion, mean, cov_sqrt in zip(*test_GMM.unpack_params(init_params)):\n",
    "    print(np.linalg.det(cov_sqrt.T @ cov_sqrt))\n",
    "    #cluster_lls.append(cov_sqrt)\n",
    "    cluster_lls.append(log_proportion + test_GMM.mvn_logpdf(data, mean, cov_sqrt))\n",
    "#labels = np.argmax(np.array(cluster_lls).T, axis=1)\n",
    "'''"
   ]
  },
  {
   "cell_type": "code",
   "execution_count": 19,
   "id": "785e4ee8",
   "metadata": {},
   "outputs": [
    {
     "name": "stdout",
     "output_type": "stream",
     "text": [
      "(2308, 2308)\n"
     ]
    }
   ],
   "source": [
    "print(np.shape(cluster_lls[0]))"
   ]
  },
  {
   "cell_type": "markdown",
   "id": "0e465f98",
   "metadata": {},
   "source": [
    "#### Fitting the model with the above initialization parameters"
   ]
  },
  {
   "cell_type": "code",
   "execution_count": 96,
   "id": "69aa76c0",
   "metadata": {
    "scrolled": true
   },
   "outputs": [
    {
     "name": "stdout",
     "output_type": "stream",
     "text": [
      "Log likelihood -49877.27108200058\n",
      "Log likelihood -48235.48932577262\n",
      "Log likelihood -46866.38887351064\n",
      "Log likelihood -45945.03186855593\n",
      "Log likelihood -45316.2048571173\n",
      "Log likelihood -44862.18041313526\n",
      "Log likelihood -44514.038046349\n",
      "Log likelihood -44232.22693782702\n",
      "Log likelihood -43993.48930751038\n",
      "Log likelihood -43783.693795345\n",
      "Log likelihood -43593.974437327335\n",
      "Log likelihood -43418.60139544509\n",
      "Log likelihood -43253.76832807692\n",
      "Log likelihood -43096.87975983598\n",
      "Log likelihood -42946.120479273784\n",
      "Log likelihood -42800.189045747786\n",
      "Log likelihood -42658.129394126794\n",
      "Log likelihood -42519.22242215404\n",
      "Log likelihood -42382.914964479976\n",
      "Log likelihood -42248.772461608896\n",
      "Log likelihood -42116.446875781134\n",
      "Log likelihood -41985.654560632705\n",
      "Log likelihood -41856.160722871005\n",
      "Log likelihood -41727.76831382253\n",
      "Log likelihood -41600.309943122316\n",
      "Log likelihood -41473.64188660426\n",
      "Log likelihood -41347.6395688585\n",
      "Log likelihood -41222.19410127794\n",
      "Log likelihood -41097.2095879985\n",
      "Log likelihood -40972.60099954205\n",
      "Log likelihood -40848.292472728725\n",
      "Log likelihood -40724.21593542389\n",
      "Log likelihood -40600.30998227845\n",
      "Log likelihood -40476.51894691198\n",
      "Log likelihood -40352.79212966796\n",
      "Log likelihood -40229.083149904196\n",
      "Log likelihood -40105.34939894963\n",
      "Log likelihood -39981.55157515567\n",
      "Log likelihood -39857.65328643295\n",
      "Log likelihood -39733.62070866809\n",
      "Log likelihood -39609.42229071656\n",
      "Log likelihood -39485.02849845074\n",
      "Log likelihood -39360.41159173782\n",
      "Log likelihood -39235.545429323436\n",
      "Log likelihood -39110.405297474696\n",
      "Log likelihood -38984.96775893992\n",
      "Log likelihood -38859.210519351436\n",
      "Log likelihood -38733.112308660995\n",
      "Log likelihood -38606.6527755753\n",
      "Log likelihood -38479.81239327174\n"
     ]
    }
   ],
   "source": [
    "## we are using gradient descent with momentum for 100 iterations with mass = 0.9 and learning rate = 5e-4\n",
    "params_store = test_GMM.fit(init_params,\"grad_descent\", learning_rate = 0.0003, mass = 0.6, maxiter = 50) "
   ]
  },
  {
   "cell_type": "markdown",
   "id": "9edb6bd5",
   "metadata": {},
   "source": [
    "#### Posthoc analysis"
   ]
  },
  {
   "cell_type": "code",
   "execution_count": 97,
   "id": "30491193",
   "metadata": {},
   "outputs": [],
   "source": [
    "### We define an auxillary function for plotting the clusters\n",
    "def draw_clusters(unpacked_params,input_data):\n",
    "    fig = plt.figure()\n",
    "    ax = fig.add_subplot(111)\n",
    "    for log_proportion, mean, cov_sqrt in zip(*unpacked_params):\n",
    "        num_points = 100\n",
    "        alpha = np.minimum(1.0, np.exp(log_proportion) * 10)\n",
    "        angles = np.linspace(0, 2*np.pi, num_points)\n",
    "        circle_pts = np.vstack([np.cos(angles), np.sin(angles)]).T * 2.0\n",
    "        cur_pts = mean + np.dot(circle_pts, cov_sqrt)\n",
    "        ax.plot(cur_pts[:, 0], cur_pts[:, 1], '-', alpha=alpha)\n",
    "        ax.plot(input_data[:, 0], input_data[:, 1], 'k.')\n",
    "    ax.plot(input_data[:, 0], input_data[:, 1], 'k.')\n",
    "\n",
    "    plt.show()"
   ]
  },
  {
   "cell_type": "code",
   "execution_count": 98,
   "id": "5cde3fd7",
   "metadata": {},
   "outputs": [
    {
     "name": "stdout",
     "output_type": "stream",
     "text": [
      "likelihood -49877.27108200058\n",
      "aic,bic 16101122.542164002 24067661.811471038\n"
     ]
    },
    {
     "name": "stderr",
     "output_type": "stream",
     "text": [
      "c:\\Users\\Admin\\AppData\\Local\\Programs\\Python\\Python37\\lib\\site-packages\\numpy\\linalg\\linalg.py:2158: RuntimeWarning: overflow encountered in det\n",
      "  r = _umath_linalg.det(a, signature=signature)\n"
     ]
    },
    {
     "name": "stdout",
     "output_type": "stream",
     "text": [
      "{0: 20}\n",
      "0.0\n",
      "likelihood -48235.48932577262\n",
      "aic,bic 16097838.978651546 24064378.247958582\n",
      "{0: 20}\n",
      "0.0\n",
      "likelihood -46866.38887351064\n",
      "aic,bic 16095100.777747022 24061640.047054056\n",
      "{0: 20}\n",
      "0.0\n",
      "likelihood -45945.03186855593\n",
      "aic,bic 16093258.063737111 24059797.33304415\n",
      "{0: 20}\n",
      "0.0\n",
      "likelihood -45316.2048571173\n",
      "aic,bic 16092000.409714235 24058539.67902127\n",
      "{0: 20}\n",
      "0.0\n",
      "likelihood -44862.18041313526\n",
      "aic,bic 16091092.36082627 24057631.630133305\n",
      "{0: 20}\n",
      "0.0\n",
      "likelihood -44514.038046349\n",
      "aic,bic 16090396.076092698 24056935.345399734\n",
      "{0: 20}\n",
      "0.0\n",
      "likelihood -44232.22693782702\n",
      "aic,bic 16089832.453875653 24056371.72318269\n",
      "{0: 20}\n",
      "0.0\n",
      "likelihood -43993.48930751038\n",
      "aic,bic 16089354.978615021 24055894.247922055\n",
      "{0: 20}\n",
      "0.0\n",
      "likelihood -43783.693795345\n",
      "aic,bic 16088935.38759069 24055474.656897727\n",
      "{0: 20}\n",
      "0.0\n",
      "likelihood -43593.974437327335\n",
      "aic,bic 16088555.948874654 24055095.218181692\n",
      "{0: 20}\n",
      "0.0\n",
      "likelihood -43418.60139544509\n",
      "aic,bic 16088205.20279089 24054744.472097926\n",
      "{0: 20}\n",
      "0.0\n",
      "likelihood -43253.76832807692\n",
      "aic,bic 16087875.536656154 24054414.80596319\n",
      "{0: 20}\n",
      "0.0\n",
      "likelihood -43096.87975983598\n",
      "aic,bic 16087561.759519672 24054101.028826706\n",
      "{0: 20}\n",
      "0.0\n",
      "likelihood -42946.120479273784\n",
      "aic,bic 16087260.240958547 24053799.510265585\n",
      "{0: 20}\n",
      "0.0\n",
      "likelihood -42800.189045747786\n",
      "aic,bic 16086968.378091495 24053507.64739853\n",
      "{0: 20}\n",
      "0.0\n",
      "likelihood -42658.129394126794\n",
      "aic,bic 16086684.258788254 24053223.52809529\n",
      "{0: 20}\n",
      "0.0\n",
      "likelihood -42519.22242215404\n",
      "aic,bic 16086406.444844307 24052945.714151345\n",
      "{0: 20}\n",
      "0.0\n",
      "likelihood -42382.914964479976\n",
      "aic,bic 16086133.82992896 24052673.099235997\n",
      "{0: 20}\n",
      "0.0\n",
      "likelihood -42248.772461608896\n",
      "aic,bic 16085865.544923218 24052404.814230252\n",
      "{0: 20}\n",
      "0.0\n",
      "likelihood -42116.446875781134\n",
      "aic,bic 16085600.893751562 24052140.163058598\n",
      "{0: 20}\n",
      "0.0\n",
      "likelihood -41985.654560632705\n",
      "aic,bic 16085339.309121266 24051878.578428302\n",
      "{0: 20}\n",
      "0.0\n",
      "likelihood -41856.160722871005\n",
      "aic,bic 16085080.321445743 24051619.590752777\n",
      "{0: 20}\n",
      "0.0\n",
      "likelihood -41727.76831382253\n",
      "aic,bic 16084823.536627645 24051362.805934682\n",
      "{0: 20}\n",
      "0.0\n",
      "likelihood -41600.309943122316\n",
      "aic,bic 16084568.619886244 24051107.88919328\n",
      "{0: 20}\n",
      "0.0\n",
      "likelihood -41473.64188660426\n",
      "aic,bic 16084315.283773208 24050854.553080246\n",
      "{0: 20}\n",
      "0.0\n",
      "likelihood -41347.6395688585\n",
      "aic,bic 16084063.279137718 24050602.54844475\n",
      "{0: 20}\n",
      "0.0\n",
      "likelihood -41222.19410127794\n",
      "aic,bic 16083812.388202555 24050351.65750959\n",
      "{0: 20}\n",
      "0.0\n",
      "likelihood -41097.2095879985\n",
      "aic,bic 16083562.419175997 24050101.688483033\n",
      "{0: 20}\n",
      "0.0\n",
      "likelihood -40972.60099954205\n",
      "aic,bic 16083313.201999085 24049852.47130612\n",
      "{0: 20}\n",
      "0.0\n",
      "likelihood -40848.292472728725\n",
      "aic,bic 16083064.584945457 24049603.854252495\n",
      "{0: 20}\n",
      "0.0\n",
      "likelihood -40724.21593542389\n",
      "aic,bic 16082816.431870848 24049355.701177884\n",
      "{0: 20}\n",
      "0.0\n",
      "likelihood -40600.30998227845\n",
      "aic,bic 16082568.619964557 24049107.889271595\n",
      "{0: 20}\n",
      "0.0\n",
      "likelihood -40476.51894691198\n",
      "aic,bic 16082321.037893824 24048860.30720086\n",
      "{0: 20}\n",
      "0.0\n",
      "likelihood -40352.79212966796\n",
      "aic,bic 16082073.584259337 24048612.85356637\n",
      "{0: 20}\n",
      "0.0\n",
      "likelihood -40229.083149904196\n",
      "aic,bic 16081826.166299809 24048365.435606845\n",
      "{0: 20}\n",
      "0.0\n",
      "likelihood -40105.34939894963\n",
      "aic,bic 16081578.698797898 24048117.968104936\n",
      "{0: 20}\n",
      "0.0\n",
      "likelihood -39981.55157515567\n",
      "aic,bic 16081331.103150312 24047870.372457348\n",
      "{0: 20}\n",
      "0.0\n",
      "likelihood -39857.65328643295\n",
      "aic,bic 16081083.306572866 24047622.5758799\n",
      "{0: 20}\n",
      "0.0\n",
      "likelihood -39733.62070866809\n",
      "aic,bic 16080835.241417335 24047374.510724373\n",
      "{0: 20}\n",
      "0.0\n",
      "likelihood -39609.42229071656\n",
      "aic,bic 16080586.844581433 24047126.11388847\n",
      "{0: 20}\n",
      "0.0\n",
      "likelihood -39485.02849845074\n",
      "aic,bic 16080338.0569969 24046877.326303937\n",
      "{0: 20}\n",
      "0.0\n",
      "likelihood -39360.41159173782\n",
      "aic,bic 16080088.823183475 24046628.092490513\n",
      "{0: 20}\n",
      "0.0\n",
      "likelihood -39235.545429323436\n",
      "aic,bic 16079839.090858648 24046378.36016568\n",
      "{0: 20}\n",
      "0.0\n",
      "likelihood -39110.405297474696\n",
      "aic,bic 16079588.81059495 24046128.079901986\n",
      "{0: 20}\n",
      "0.0\n",
      "likelihood -38984.96775893992\n",
      "aic,bic 16079337.93551788 24045877.204824917\n",
      "{0: 20}\n",
      "0.0\n",
      "likelihood -38859.210519351436\n",
      "aic,bic 16079086.421038702 24045625.690345738\n",
      "{0: 20}\n",
      "0.0\n",
      "likelihood -38733.112308660995\n",
      "aic,bic 16078834.224617323 24045373.493924357\n",
      "{0: 20}\n",
      "0.0\n",
      "likelihood -38606.6527755753\n",
      "aic,bic 16078581.30555115 24045120.574858185\n",
      "{0: 20}\n",
      "0.0\n",
      "likelihood -38479.81239327174\n",
      "aic,bic 16078327.624786543 24044866.89409358\n",
      "{0: 20}\n",
      "0.0\n"
     ]
    }
   ],
   "source": [
    "for params in params_store:\n",
    "    print(\"likelihood\",test_GMM.likelihood(params))\n",
    "    print(\"aic,bic\",test_GMM.aic(params),test_GMM.bic(params))\n",
    "    preds = test_GMM.labels(data,params)\n",
    "    print(dict(zip(*np.unique(np.array(preds),return_counts=True))))\n",
    "    print(100*sum(np.equal(preds,ground_truth))/len(preds))\n",
    "    \n",
    "\n",
    "    #draw_clusters(test_GMM.unpack_params(params),data)"
   ]
  },
  {
   "cell_type": "code",
   "execution_count": 99,
   "id": "5b8aa7ca",
   "metadata": {},
   "outputs": [
    {
     "data": {
      "text/plain": [
       "array([0, 0, 0, 0, 0, 0, 0, 0, 0, 0, 0, 0, 0, 0, 0, 0, 0, 0, 0, 0],\n",
       "      dtype=int64)"
      ]
     },
     "execution_count": 99,
     "metadata": {},
     "output_type": "execute_result"
    }
   ],
   "source": [
    "### Final labels\n",
    "\n",
    "np.array(test_GMM.labels(data,params_store[-1]))"
   ]
  }
 ],
 "metadata": {
  "kernelspec": {
   "display_name": "Python 3",
   "language": "python",
   "name": "python3"
  },
  "language_info": {
   "codemirror_mode": {
    "name": "ipython",
    "version": 3
   },
   "file_extension": ".py",
   "mimetype": "text/x-python",
   "name": "python",
   "nbconvert_exporter": "python",
   "pygments_lexer": "ipython3",
   "version": "3.7.9"
  },
  "vscode": {
   "interpreter": {
    "hash": "252189e587d1e2aeba4a06e91fa71896c7a7f6e22e918b9407c7cde4ef2d5985"
   }
  }
 },
 "nbformat": 4,
 "nbformat_minor": 5
}
