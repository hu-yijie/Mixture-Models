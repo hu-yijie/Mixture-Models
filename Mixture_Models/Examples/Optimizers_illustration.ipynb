{
 "cells": [
  {
   "cell_type": "markdown",
   "id": "45ee5376",
   "metadata": {},
   "source": [
    "In this notebook, we illustrate how to fit GMM with different optimization routines. A similar approach can be followed for fitting other models with these optimizers."
   ]
  },
  {
   "cell_type": "code",
   "execution_count": 1,
   "id": "509aad98",
   "metadata": {},
   "outputs": [],
   "source": [
    "from Mixture_Models import *"
   ]
  },
  {
   "cell_type": "markdown",
   "id": "1985e650",
   "metadata": {},
   "source": [
    "#### Simulating some data"
   ]
  },
  {
   "cell_type": "code",
   "execution_count": 2,
   "id": "02d386ec",
   "metadata": {},
   "outputs": [],
   "source": [
    "data = make_pinwheel(radial_std=0.3, tangential_std=0.05, num_classes=3,\n",
    "                         num_per_class=100, rate=0.4,rs=npr.RandomState(0))"
   ]
  },
  {
   "cell_type": "markdown",
   "id": "6360d0e3",
   "metadata": {},
   "source": [
    "#### Initializing the model"
   ]
  },
  {
   "cell_type": "code",
   "execution_count": 3,
   "id": "a6309d89",
   "metadata": {},
   "outputs": [],
   "source": [
    "test_GMM = GMM(data)"
   ]
  },
  {
   "cell_type": "markdown",
   "id": "ed59fa58",
   "metadata": {},
   "source": [
    "#### Initializing the input parameters"
   ]
  },
  {
   "cell_type": "code",
   "execution_count": 4,
   "id": "27526c87",
   "metadata": {},
   "outputs": [
    {
     "name": "stdout",
     "output_type": "stream",
     "text": [
      "{'log proportions': array([ 0.66579325,  0.35763949, -0.77270015]), 'means': array([[-0.00419192,  0.31066799],\n",
      "       [-0.36004278,  0.13275579],\n",
      "       [ 0.05427426,  0.00214572]]), 'lower triangles': array([[[1., 0.],\n",
      "        [0., 1.]],\n",
      "\n",
      "       [[1., 0.],\n",
      "        [0., 1.]],\n",
      "\n",
      "       [[1., 0.],\n",
      "        [0., 1.]]])}\n"
     ]
    }
   ],
   "source": [
    "npr.seed(10)\n",
    "init_params = test_GMM.init_params(num_components=3,scale=0.5)\n",
    "print(init_params)"
   ]
  },
  {
   "cell_type": "markdown",
   "id": "0e465f98",
   "metadata": {},
   "source": [
    "#### Fitting the model with the above initialization parameters"
   ]
  },
  {
   "cell_type": "markdown",
   "id": "c920425b",
   "metadata": {},
   "source": [
    "Gradient Descent with momentum"
   ]
  },
  {
   "cell_type": "code",
   "execution_count": 5,
   "id": "69aa76c0",
   "metadata": {
    "scrolled": true
   },
   "outputs": [
    {
     "name": "stdout",
     "output_type": "stream",
     "text": [
      "Log likelihood -720.8092616186832\n",
      "Log likelihood -719.9324989689964\n",
      "Log likelihood -718.274814939572\n",
      "Log likelihood -715.9300034638668\n",
      "Log likelihood -712.9900481929888\n",
      "Log likelihood -709.5458269817979\n",
      "Log likelihood -705.6880453853834\n",
      "Log likelihood -701.5082241387775\n",
      "Log likelihood -697.0995833835279\n",
      "Log likelihood -692.557653132106\n",
      "Log likelihood -687.9804054374333\n",
      "Log likelihood -683.4676605634239\n",
      "Log likelihood -679.1194852214626\n",
      "Log likelihood -675.0333048263767\n",
      "Log likelihood -671.2995356451652\n",
      "Log likelihood -667.9957548102311\n",
      "Log likelihood -665.1797992207992\n",
      "Log likelihood -662.8826958402399\n",
      "Log likelihood -661.1028521459016\n",
      "Log likelihood -659.8032389258503\n",
      "Log likelihood -658.9131007549157\n",
      "Log likelihood -658.3348876031125\n",
      "Log likelihood -657.9557758247458\n",
      "Log likelihood -657.6618055087696\n",
      "Log likelihood -657.3518342045413\n",
      "Log likelihood -656.9484866199952\n",
      "Log likelihood -656.4040216179089\n",
      "Log likelihood -655.7002839476836\n",
      "Log likelihood -654.8433206006828\n",
      "Log likelihood -653.8544379608578\n",
      "Log likelihood -652.7600866545947\n",
      "Log likelihood -651.5827966792069\n",
      "Log likelihood -650.3345799798044\n",
      "Log likelihood -649.0131686118611\n",
      "Log likelihood -647.6005850730753\n",
      "Log likelihood -646.0630742951746\n",
      "Log likelihood -644.3513504892028\n",
      "Log likelihood -642.4002714559438\n",
      "Log likelihood -640.1272788867701\n",
      "Log likelihood -637.4291244751488\n",
      "Log likelihood -634.176494153884\n",
      "Log likelihood -630.2061599145472\n",
      "Log likelihood -625.3104086368007\n",
      "Log likelihood -619.2247622941566\n",
      "Log likelihood -611.6214914638101\n",
      "Log likelihood -602.1343359733471\n",
      "Log likelihood -590.4502973454537\n",
      "Log likelihood -576.5214283372422\n",
      "Log likelihood -560.8763435657726\n",
      "Log likelihood -545.7548815517194\n",
      "Log likelihood -557.5787187864316\n",
      "Log likelihood -552.9499535266333\n",
      "Log likelihood -542.0578600300125\n",
      "Log likelihood -538.7952832949009\n",
      "Log likelihood -540.0509343382073\n",
      "Log likelihood -540.1047083135684\n",
      "Log likelihood -538.3920941446918\n",
      "Log likelihood -534.537647432514\n",
      "Log likelihood -525.1460662219931\n",
      "Log likelihood -517.0542202917712\n",
      "Log likelihood -526.1145493153927\n",
      "Log likelihood -518.8489300488308\n",
      "Log likelihood -512.8972178891288\n",
      "Log likelihood -514.4391052085053\n",
      "Log likelihood -515.9467825935965\n",
      "Log likelihood -510.42814687646234\n",
      "Log likelihood -506.3093379899209\n",
      "Log likelihood -504.65314784826353\n",
      "Log likelihood -503.7143635793591\n",
      "Log likelihood -499.79813193959654\n",
      "Log likelihood -496.79322333167033\n",
      "Log likelihood -495.8327695607128\n",
      "Log likelihood -493.0468988990089\n",
      "Log likelihood -487.3812837574902\n",
      "Log likelihood -480.811442343024\n",
      "Log likelihood -481.936751345812\n",
      "Log likelihood -474.17574082901217\n",
      "Log likelihood -472.880785750509\n",
      "Log likelihood -469.2855044181589\n",
      "Log likelihood -464.39114152547813\n",
      "Log likelihood -464.12620068500365\n",
      "Log likelihood -459.59863369925216\n",
      "Log likelihood -463.21083585301153\n",
      "Log likelihood -467.07316935158553\n",
      "Log likelihood -466.37868381270675\n",
      "Log likelihood -464.6804267456888\n",
      "Log likelihood -464.2275296339129\n",
      "Log likelihood -460.8368360423059\n",
      "Log likelihood -458.5466367680627\n",
      "Log likelihood -459.7961376646298\n",
      "Log likelihood -460.3271774292756\n",
      "Log likelihood -460.46190677130545\n",
      "Log likelihood -460.43135878286694\n",
      "Log likelihood -461.00300583656065\n",
      "Log likelihood -460.31408472166686\n",
      "Log likelihood -460.4857895176703\n",
      "Log likelihood -459.6079258588799\n",
      "Log likelihood -458.5285921960288\n",
      "Log likelihood -458.0932767136611\n",
      "Log likelihood -457.7627030996754\n"
     ]
    }
   ],
   "source": [
    "params_store = test_GMM.fit(init_params,opt_routine = \"grad_descent\", learning_rate = 0.0005, mass = 0.9, maxiter = 100, tol = 1e-7) "
   ]
  },
  {
   "cell_type": "code",
   "execution_count": null,
   "id": "94f5172d",
   "metadata": {},
   "outputs": [],
   "source": []
  },
  {
   "cell_type": "code",
   "execution_count": 6,
   "id": "ffb8bff0",
   "metadata": {
    "scrolled": true
   },
   "outputs": [
    {
     "name": "stdout",
     "output_type": "stream",
     "text": [
      "Log likelihood -720.8092616186832\n",
      "Log likelihood -708.7687436918704\n",
      "Log likelihood -700.5695943512029\n",
      "Log likelihood -694.1365026952342\n",
      "Log likelihood -688.7992701317978\n",
      "Log likelihood -684.2343094906564\n",
      "Log likelihood -680.2509729901997\n",
      "Log likelihood -676.72377944885\n",
      "Log likelihood -673.5643825913835\n",
      "Log likelihood -670.706629891055\n",
      "Log likelihood -668.0968903183066\n",
      "Log likelihood -665.6867120416829\n",
      "Log likelihood -663.4258206923182\n",
      "Log likelihood -661.2538140270026\n",
      "Log likelihood -659.0896525495962\n",
      "Log likelihood -656.8207660722843\n",
      "Log likelihood -654.2999317201795\n",
      "Log likelihood -651.361311175862\n",
      "Log likelihood -647.8531607362195\n",
      "Log likelihood -643.6709453080134\n",
      "Log likelihood -638.7843858447935\n",
      "Log likelihood -633.2539663815364\n",
      "Log likelihood -627.2221184965576\n",
      "Log likelihood -620.8801549218979\n",
      "Log likelihood -614.4636427271009\n",
      "Log likelihood -608.2643929292244\n",
      "Log likelihood -602.4560196420489\n",
      "Log likelihood -596.9081858274919\n",
      "Log likelihood -591.4105651077606\n",
      "Log likelihood -585.7508455931045\n",
      "Log likelihood -579.2361200491385\n",
      "Log likelihood -571.3005530174687\n",
      "Log likelihood -564.1727468457191\n",
      "Log likelihood -559.9692342016923\n",
      "Log likelihood -556.2317981360715\n",
      "Log likelihood -553.6491026962588\n",
      "Log likelihood -553.8285413730542\n",
      "Log likelihood -552.2184716875204\n",
      "Log likelihood -557.2588487668172\n",
      "Log likelihood -547.2401457215587\n",
      "Log likelihood -543.1012704582699\n",
      "Log likelihood -539.7613659647752\n",
      "Log likelihood -535.9350001310462\n",
      "Log likelihood -526.6055944282385\n",
      "Log likelihood -519.9014845307063\n",
      "Log likelihood -511.5437785503537\n",
      "Log likelihood -513.463916232708\n",
      "Log likelihood -509.82767840191786\n",
      "Log likelihood -512.3255191762145\n",
      "Log likelihood -504.2240737249015\n",
      "Log likelihood -504.2918766090335\n",
      "Log likelihood -501.20729969126677\n",
      "Log likelihood -501.6497568993295\n",
      "Log likelihood -498.23656821240036\n",
      "Log likelihood -498.4780074995946\n",
      "Log likelihood -496.05239211192577\n",
      "Log likelihood -496.38449344314415\n",
      "Log likelihood -493.8953075935989\n",
      "Log likelihood -492.8158147940364\n",
      "Log likelihood -490.7855867239088\n",
      "Log likelihood -490.28337738526824\n",
      "Log likelihood -487.7642208176741\n",
      "Log likelihood -486.9766715308884\n",
      "Log likelihood -485.1723625268054\n",
      "Log likelihood -484.32469902960054\n",
      "Log likelihood -482.43653206795466\n",
      "Log likelihood -481.28301371746915\n",
      "Log likelihood -479.2818089261294\n",
      "Log likelihood -478.1957529040546\n",
      "Log likelihood -475.119297708746\n",
      "Log likelihood -474.640949331735\n",
      "Log likelihood -473.94963808905885\n",
      "Log likelihood -468.45878641483694\n",
      "Log likelihood -466.9083778340506\n",
      "Log likelihood -470.16859622685104\n",
      "Log likelihood -465.79742926511983\n",
      "Log likelihood -463.80552260975577\n",
      "Log likelihood -466.81282462221975\n",
      "Log likelihood -461.12288306502836\n",
      "Log likelihood -461.6831446304856\n",
      "Log likelihood -460.92211967902483\n",
      "Log likelihood -461.7850583892346\n",
      "Log likelihood -462.6529256935471\n",
      "Log likelihood -460.648113651777\n",
      "Log likelihood -457.60469426593016\n",
      "Log likelihood -457.9715904956215\n",
      "Log likelihood -459.65514595552406\n",
      "Log likelihood -456.3190258794446\n",
      "Log likelihood -453.9506344712588\n",
      "Log likelihood -454.85750592073794\n",
      "Log likelihood -455.17040148135027\n",
      "Log likelihood -454.1246514432428\n",
      "Log likelihood -455.0545243836656\n",
      "Log likelihood -451.8960680859658\n",
      "Log likelihood -450.89581443497667\n",
      "Log likelihood -451.76496842981913\n",
      "Log likelihood -453.56013686168257\n",
      "Log likelihood -448.92798246994363\n",
      "Log likelihood -447.11734346147915\n",
      "Log likelihood -447.99579911010414\n"
     ]
    }
   ],
   "source": [
    "params_store = test_GMM.fit(init_params,opt_routine = \"rms_prop\", learning_rate = 0.01, gamma = 0.9, maxiter = 100, tol = 1e-7) "
   ]
  },
  {
   "cell_type": "markdown",
   "id": "badb9525",
   "metadata": {},
   "source": [
    "Adam"
   ]
  },
  {
   "cell_type": "code",
   "execution_count": 7,
   "id": "baacf1a3",
   "metadata": {
    "scrolled": true
   },
   "outputs": [
    {
     "name": "stdout",
     "output_type": "stream",
     "text": [
      "Log likelihood -720.8092616186832\n",
      "Log likelihood -685.0765304238932\n",
      "Log likelihood -662.6350166131663\n",
      "Log likelihood -649.0726027318387\n",
      "Log likelihood -631.6760439953945\n",
      "Log likelihood -600.1727102280388\n",
      "Log likelihood -630.9274646458698\n",
      "Log likelihood -578.9238847231685\n",
      "Log likelihood -562.165276661053\n",
      "Log likelihood -599.5333653984799\n",
      "Log likelihood -576.6578614655705\n",
      "Log likelihood -571.7616447184505\n",
      "Log likelihood -572.1276897293137\n",
      "Log likelihood -570.8580451771827\n",
      "Log likelihood -568.4294465585931\n",
      "Log likelihood -563.1954191409978\n",
      "Log likelihood -547.1253907516916\n",
      "Log likelihood -535.9863256854494\n",
      "Log likelihood -547.0920329764722\n",
      "Log likelihood -533.8007869184902\n",
      "Log likelihood -541.2124368508833\n",
      "Log likelihood -544.895639511094\n",
      "Log likelihood -542.4479327601205\n",
      "Log likelihood -536.8051646725139\n",
      "Log likelihood -526.1368045225732\n",
      "Log likelihood -510.95425998896087\n",
      "Log likelihood -543.4440078030493\n",
      "Log likelihood -512.1522515529334\n",
      "Log likelihood -527.9199129627668\n",
      "Log likelihood -536.8015071096152\n",
      "Log likelihood -540.6663066558448\n",
      "Log likelihood -541.2374211536254\n",
      "Log likelihood -540.1606872329295\n",
      "Log likelihood -537.5056209830797\n",
      "Log likelihood -532.1850042363983\n",
      "Log likelihood -525.7223332386833\n",
      "Log likelihood -518.8795230164308\n",
      "Log likelihood -510.62421365460193\n",
      "Log likelihood -501.8351501241462\n",
      "Log likelihood -496.0947389906018\n",
      "Log likelihood -495.5640417307239\n",
      "Log likelihood -487.6062143103319\n",
      "Log likelihood -480.1439506755261\n",
      "Log likelihood -467.6072886590645\n",
      "Log likelihood -456.8583335845274\n",
      "Log likelihood -458.74280360239936\n",
      "Log likelihood -452.06580575995014\n",
      "Log likelihood -450.59169447113004\n",
      "Log likelihood -447.4315621902865\n",
      "Log likelihood -452.519067250449\n",
      "Log likelihood -443.96241600371934\n",
      "Log likelihood -418.2957147478162\n",
      "Log likelihood -458.65764226444327\n",
      "Log likelihood -427.1375216227499\n",
      "Log likelihood -452.66611523428526\n",
      "Log likelihood -455.2695795402974\n",
      "Log likelihood -465.0815750462988\n",
      "Log likelihood -468.6319205205966\n",
      "Log likelihood -465.8171297098009\n",
      "Log likelihood -460.23112814335127\n",
      "Log likelihood -463.8710821783014\n",
      "Log likelihood -459.2453319761843\n",
      "Log likelihood -458.15545899260974\n",
      "Log likelihood -447.71942903588223\n",
      "Log likelihood -435.0182305687579\n",
      "Log likelihood -421.79469822924113\n",
      "Log likelihood -404.49820766531866\n",
      "Log likelihood -403.98701498760516\n",
      "Log likelihood -411.431929220932\n",
      "Log likelihood -393.7137979025374\n",
      "Log likelihood -392.138067285943\n",
      "Log likelihood -391.87888176801687\n",
      "Log likelihood -388.52452128073844\n",
      "Log likelihood -396.38189093107405\n",
      "Log likelihood -387.4270976133207\n",
      "Log likelihood -387.32842615788877\n",
      "Log likelihood -392.98719492277075\n",
      "Log likelihood -392.48582214333646\n",
      "Log likelihood -386.70963361400436\n",
      "Log likelihood -383.1931810631181\n",
      "Log likelihood -382.7340802608252\n",
      "Log likelihood -379.71253065901567\n",
      "Log likelihood -377.3802603728679\n",
      "Log likelihood -380.53367199244775\n",
      "Log likelihood -383.24532844074895\n",
      "Log likelihood -380.70035640062895\n",
      "Log likelihood -376.64098104088333\n",
      "Log likelihood -375.3268786242454\n",
      "Log likelihood -376.484347658266\n",
      "Log likelihood -376.54856347059797\n",
      "Log likelihood -377.1591706434526\n",
      "Log likelihood -377.43865166532186\n",
      "Log likelihood -376.78536139955366\n",
      "Log likelihood -376.21679754084823\n",
      "Log likelihood -375.26005587538276\n",
      "Log likelihood -375.38450093951406\n",
      "Log likelihood -375.59452424598146\n",
      "Log likelihood -375.1206655506989\n",
      "Log likelihood -375.1189425818127\n",
      "Log likelihood -375.12363427443483\n"
     ]
    }
   ],
   "source": [
    "params_store = test_GMM.fit(init_params,opt_routine=\"adam\", learning_rate = 0.1, beta1 = 0.9, beta2 = 0.99, maxiter = 100,tol = 1e-7)"
   ]
  },
  {
   "cell_type": "markdown",
   "id": "5bad8f18",
   "metadata": {},
   "source": [
    "Newtons CG"
   ]
  },
  {
   "cell_type": "code",
   "execution_count": 12,
   "id": "5db15ab4",
   "metadata": {},
   "outputs": [
    {
     "name": "stdout",
     "output_type": "stream",
     "text": [
      "Log likelihood -686.1832497203502\n",
      "Log likelihood -662.5130705607678\n",
      "Log likelihood -582.3683234440628\n",
      "Log likelihood -565.349055873944\n",
      "Log likelihood -559.7514610450845\n",
      "Log likelihood -556.7400049073273\n",
      "Log likelihood -527.1685213755479\n",
      "Log likelihood -510.3776376440154\n",
      "Log likelihood -503.49668673474605\n",
      "Log likelihood -491.3439022514285\n",
      "Log likelihood -481.65444262064193\n",
      "Log likelihood -468.53913023916493\n",
      "Log likelihood -464.82906831707436\n",
      "Log likelihood -461.59604667743866\n",
      "Log likelihood -460.841081195283\n",
      "Log likelihood -459.64656630858565\n",
      "Log likelihood -457.7399580790257\n",
      "Log likelihood -456.8178174626321\n",
      "Log likelihood -455.33888113669093\n",
      "Log likelihood -453.8382571209291\n",
      "Log likelihood -451.27541712101697\n",
      "Log likelihood -447.6385484419127\n",
      "Log likelihood -441.1096579896714\n",
      "Log likelihood -429.56336005267997\n",
      "Log likelihood -428.21805675532295\n",
      "Log likelihood -426.9664441206501\n",
      "Log likelihood -424.90783424323513\n",
      "Log likelihood -422.94938394306297\n",
      "Log likelihood -421.6728304341238\n",
      "Log likelihood -406.96807626246544\n",
      "Log likelihood -402.05190558008917\n",
      "Log likelihood -392.97445271316883\n",
      "Log likelihood -383.595551238864\n",
      "Log likelihood -378.79250370082605\n",
      "Log likelihood -377.3294927878065\n",
      "Log likelihood -377.02546017234954\n",
      "Log likelihood -376.8326234192707\n",
      "Log likelihood -376.5728562416139\n",
      "Log likelihood -376.4207972512701\n",
      "Log likelihood -376.4168907629438\n",
      "Log likelihood -376.41608293965226\n",
      "Log likelihood -376.41601190507373\n",
      "Log likelihood -376.4160032489722\n",
      "Log likelihood -376.4160017027022\n",
      "Log likelihood -376.41600168288096\n"
     ]
    }
   ],
   "source": [
    "params_store = test_GMM.fit(init_params,opt_routine=\"Newton-CG\", maxiter = 100, tol = 1e-7)"
   ]
  },
  {
   "cell_type": "code",
   "execution_count": null,
   "id": "289e03e6",
   "metadata": {},
   "outputs": [],
   "source": []
  },
  {
   "cell_type": "code",
   "execution_count": null,
   "id": "2b479456",
   "metadata": {},
   "outputs": [],
   "source": []
  },
  {
   "cell_type": "code",
   "execution_count": null,
   "id": "9bf68f8b",
   "metadata": {},
   "outputs": [],
   "source": []
  }
 ],
 "metadata": {
  "kernelspec": {
   "display_name": "Python 3",
   "language": "python",
   "name": "python3"
  },
  "language_info": {
   "codemirror_mode": {
    "name": "ipython",
    "version": 3
   },
   "file_extension": ".py",
   "mimetype": "text/x-python",
   "name": "python",
   "nbconvert_exporter": "python",
   "pygments_lexer": "ipython3",
   "version": "3.9.4"
  }
 },
 "nbformat": 4,
 "nbformat_minor": 5
}
